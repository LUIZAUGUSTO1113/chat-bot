{
  "nbformat": 4,
  "nbformat_minor": 0,
  "metadata": {
    "colab": {
      "provenance": [],
      "authorship_tag": "ABX9TyMH1cPuxpZmcHMVKImSFBh3",
      "include_colab_link": true
    },
    "kernelspec": {
      "name": "python3",
      "display_name": "Python 3"
    },
    "language_info": {
      "name": "python"
    }
  },
  "cells": [
    {
      "cell_type": "markdown",
      "metadata": {
        "id": "view-in-github",
        "colab_type": "text"
      },
      "source": [
        "<a href=\"https://colab.research.google.com/github/LUIZAUGUSTO1113/chat-bot/blob/main/chat_bot.ipynb\" target=\"_parent\"><img src=\"https://colab.research.google.com/assets/colab-badge.svg\" alt=\"Open In Colab\"/></a>"
      ]
    },
    {
      "cell_type": "code",
      "execution_count": 1,
      "metadata": {
        "id": "VLA3wxbeyS18"
      },
      "outputs": [],
      "source": [
        "!pip install -q -U google-generativeai"
      ]
    },
    {
      "cell_type": "code",
      "source": [
        "# IMPORT LIBRARY AND DEFINE API KEY\n",
        "\n",
        "import google.generativeai as genai\n",
        "from google.colab import userdata\n",
        "api_key = userdata.get(\"SECRET_KEY\")\n",
        "genai.configure(api_key=api_key)\n",
        "\n",
        "# CONFIG OF GENERATION\n",
        "generation_config = {\n",
        "    \"temperature\": 0.5,\n",
        "    \"top_p\": 0.95,\n",
        "    \"top_k\": 35,\n",
        "}\n",
        "\n",
        "# CONFIG OF SAFETY SETTINGS\n",
        "safety_settings = {\n",
        "    \"HARASSMENT\": \"BLOCK_NONE\",\n",
        "    \"HATE\": \"BLOCK_NONE\",\n",
        "    \"SEXUAL\": \"BLOCK_NONE\",\n",
        "    \"DANGEROUS\": \"BLOCK_NONE\",\n",
        "}\n",
        "\n",
        "# DEFINE MODEL\n",
        "model = genai.GenerativeModel(model_name=\"gemini-1.0-pro\", generation_config=generation_config, safety_settings=safety_settings)\n",
        "\n",
        "# CHAT HISTORY\n",
        "chat = model.start_chat(history=[])\n",
        "\n",
        "# PROMPT\n",
        "prompt = input(\"text something \")\n",
        "while prompt != \"end\":\n",
        "  response = chat.send_message(prompt)\n",
        "  print(response.text, \"\\n\")\n",
        "  prompt = input(\"text something \")"
      ],
      "metadata": {
        "colab": {
          "base_uri": "https://localhost:8080/",
          "height": 243
        },
        "id": "f1AMLY9ByZgq",
        "outputId": "ef26cf6b-b55d-4d4f-977a-f8f968d7ac3e"
      },
      "execution_count": 2,
      "outputs": [
        {
          "name": "stdout",
          "output_type": "stream",
          "text": [
            "text something Quantos títulos de Formula 1 Michael Schumacher tem?\n",
            "7 \n",
            "\n",
            "text something Qual outro piloto de Formula 1 possui o mesmo número de títulos?\n",
            "Lewis Hamilton \n",
            "\n",
            "text something Tem algum piloto que possui mais títulos que Schumacher ou Hamilton?\n",
            "Não \n",
            "\n",
            "text something E o Ayrton Senna?\n",
            "Ayrton Senna possui 3 títulos de Fórmula 1, menos que Michael Schumacher e Lewis Hamilton. \n",
            "\n",
            "text something end\n"
          ]
        }
      ]
    }
  ]
}